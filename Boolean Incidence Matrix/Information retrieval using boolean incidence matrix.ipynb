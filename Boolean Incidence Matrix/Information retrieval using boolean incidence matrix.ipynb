{
 "cells": [
  {
   "cell_type": "code",
   "execution_count": 1,
   "metadata": {},
   "outputs": [],
   "source": [
    "#Import necessary libraries \n",
    "import sys\n",
    "from os import listdir\n",
    "from os.path import isfile, join\n",
    "import nltk\n",
    "from nltk.corpus import stopwords\n",
    "from nltk.stem import PorterStemmer\n",
    "from nltk.tokenize import word_tokenize"
   ]
  },
  {
   "cell_type": "code",
   "execution_count": 2,
   "metadata": {},
   "outputs": [],
   "source": [
    "#Preprocess the data(remove puntutations,convert to uppercase,get baseword etc)\n",
    "ps = PorterStemmer()\n",
    "def preprocessing(file_name):\n",
    "        file = open(file_name,'r')\n",
    "        lines = file.read().split(\"\\n\")\n",
    "        no_lines = \"\"\n",
    "        for sentence in lines:\n",
    "            if sentence!='\\n' and sentence!='':\n",
    "                stop_words = set(stopwords.words('english'))\n",
    "                words = word_tokenize(sentence)\n",
    "                new_words= [word for word in words if word. isalnum()]\n",
    "                stopword_removed_sentence = [w for w in new_words if not w in stop_words]\n",
    "                mod_sentence = \"\"\n",
    "                for word in stopword_removed_sentence:\n",
    "                    mod_sentence+= ps.stem(word)+\" \"\n",
    "                no_lines+=mod_sentence+'\\n'\n",
    "        return no_lines"
   ]
  },
  {
   "cell_type": "code",
   "execution_count": 3,
   "metadata": {},
   "outputs": [],
   "source": [
    "#For removing the stopwords and punctuations in sentence\n",
    "def RemoveStopWords(sentence):\n",
    "        terms=[]\n",
    "        for term in sentence.split() : \n",
    "            if term not in BRM.StopWords and term.isalnum() :\n",
    "                terms.append(term)\n",
    "        return terms\n",
    "\n",
    "#to print the total terms with duplicates\n",
    "def Terms(Data):\n",
    "        Terms=[]\n",
    "        for doc in Data:\n",
    "            Terms.append(RemoveStopWords(Data[doc].upper()))\n",
    "        Terms=[item for sublist in Terms for item in sublist]\n",
    "        return Terms\n",
    "\n",
    "#print Distinct Terms\n",
    "def Distinctterms(Terms):\n",
    "        DistinctTerms=[]\n",
    "        for d in Terms :\n",
    "            if d not in DistinctTerms:\n",
    "                DistinctTerms.append(d)\n",
    "        return DistinctTerms\n",
    "\n",
    "#print Each Document terms\n",
    "def DocumentColection(Data):\n",
    "        DocCollect={}\n",
    "        for doc in Data:\n",
    "            if doc not in BRM.BooleanOperator :\n",
    "                DocCollect[doc]=Distinctterms(RemoveStopWords(Data[doc].upper()))\n",
    "        return DocCollect\n",
    "\n",
    "#to print dictionary in better view\n",
    "def displayDict(D):\n",
    "        print(\"\\n\")\n",
    "        for i in D:\n",
    "            print (i , \" : \" ,D[i])\n",
    "        print(\"\\n\")\n"
   ]
  },
  {
   "cell_type": "code",
   "execution_count": 4,
   "metadata": {},
   "outputs": [],
   "source": [
    "#build up the term document incidence matrix for each distinct term\n",
    "def TermDocumentIncidenceMatrix(DocumentTermsCollection ,DistinctTerms):\n",
    "    TermDocMatrix={}\n",
    "    for term in DistinctTerms:\n",
    "        Vector=[]\n",
    "        for c in DocumentTermsCollection:\n",
    "\n",
    "            if term in DocumentTermsCollection[c]:\n",
    "                Vector.append(1)\n",
    "            else :\n",
    "                Vector.append(0)\n",
    "\n",
    "        TermDocMatrix[term]=Vector\n",
    "    return TermDocMatrix\n",
    "\n",
    "\n",
    "#to retrive the term document incidence vector for particular term\n",
    "def TermIncidenceVector(term):\n",
    "    return BRM.TermDocMatrix[term]\n",
    "\n"
   ]
  },
  {
   "cell_type": "code",
   "execution_count": 5,
   "metadata": {},
   "outputs": [],
   "source": [
    "class BRM:\n",
    "    #we have to define our own path in the below line,where your files are stored\n",
    "    path=\"/home/christan/Desktop/IR_project_1\"\n",
    "    Data = {}\n",
    "    onlyfiles = [f for f in listdir(path)]\n",
    "    txt_files = filter(lambda x: x[-4:] == '.txt', onlyfiles)\n",
    "    for f in txt_files:\n",
    "        Data[f] = preprocessing(f)\n",
    "    StopWords = stopwords.words('english')\n",
    "    BooleanOperator = {'AND', 'OR', 'NOT','and','or','not'}\n",
    "    # list of terms from the Data file collection\n",
    "    TotalTerms=[]\n",
    "    # list of Distinct Terms\n",
    "    DistinctTerms=[]\n",
    "    # Document collection terms\n",
    "    EachDocumentTerms={}\n",
    "    # TermDocumentIncidenceMatrix \n",
    "    TermDocMatrix={}"
   ]
  },
  {
   "cell_type": "code",
   "execution_count": 6,
   "metadata": {
    "tags": []
   },
   "outputs": [
    {
     "output_type": "stream",
     "name": "stdout",
     "text": "---  Text files content ---\n\n\nd5.txt  :  analysi latent structur \n\nd1.txt  :  english tutori fast track \n\nd2.txt  :  book semant analysi \n\nd4.txt  :  advanc structur semant index \n\ndoc1.txt  :  what manner man machiavelli home It hard say \n\nd3.txt  :  learn latent semant index \n\ndoc2.txt  :  messi home ministri \nmessi \n\ndoc3.txt  :  machiavelli born 3rd may 1469 the messi period life almost exactli coincid cardin wolsey \nthe function council extrem vari hand secretari becam yet diversifi they repres sens ministri home militari especi foreign affair \nhello \nudayin man machiavelli \nye boy hard I cool militari \nmachaivelli \n\n\n\n"
    }
   ],
   "source": [
    "print(\"---  Text files content ---\")\n",
    "displayDict(BRM.Data)"
   ]
  },
  {
   "cell_type": "code",
   "execution_count": 7,
   "metadata": {
    "tags": []
   },
   "outputs": [
    {
     "output_type": "stream",
     "name": "stdout",
     "text": "\n--- Total Terms in docs ---\n -- ANALYSI -- LATENT -- STRUCTUR -- ENGLISH -- TUTORI -- FAST -- TRACK -- BOOK -- SEMANT -- ANALYSI -- ADVANC -- STRUCTUR -- SEMANT -- INDEX -- WHAT -- MANNER -- MAN -- MACHIAVELLI -- HOME -- IT -- HARD -- SAY -- LEARN -- LATENT -- SEMANT -- INDEX -- MESSI -- HOME -- MINISTRI -- MESSI -- MACHIAVELLI -- BORN -- 3RD -- MAY -- 1469 -- THE -- MESSI -- PERIOD -- LIFE -- ALMOST -- EXACTLI -- COINCID -- CARDIN -- WOLSEY -- THE -- FUNCTION -- COUNCIL -- EXTREM -- VARI -- HAND -- SECRETARI -- BECAM -- YET -- DIVERSIFI -- THEY -- REPRES -- SENS -- MINISTRI -- HOME -- MILITARI -- ESPECI -- FOREIGN -- AFFAIR -- HELLO -- UDAYIN -- MAN -- MACHIAVELLI -- YE -- BOY -- HARD -- I -- COOL -- MILITARI -- MACHAIVELLI\n"
    }
   ],
   "source": [
    "BRM.TotalTerms= Terms(BRM.Data)\n",
    "print (\"\\n--- Total Terms in docs ---\\n\" , *BRM.TotalTerms ,sep= \" -- \")"
   ]
  },
  {
   "cell_type": "code",
   "execution_count": 8,
   "metadata": {
    "tags": []
   },
   "outputs": [
    {
     "output_type": "stream",
     "name": "stdout",
     "text": "\n--- Distinct Terms in  docs---\n -- ANALYSI -- LATENT -- STRUCTUR -- ENGLISH -- TUTORI -- FAST -- TRACK -- BOOK -- SEMANT -- ADVANC -- INDEX -- WHAT -- MANNER -- MAN -- MACHIAVELLI -- HOME -- IT -- HARD -- SAY -- LEARN -- MESSI -- MINISTRI -- BORN -- 3RD -- MAY -- 1469 -- THE -- PERIOD -- LIFE -- ALMOST -- EXACTLI -- COINCID -- CARDIN -- WOLSEY -- FUNCTION -- COUNCIL -- EXTREM -- VARI -- HAND -- SECRETARI -- BECAM -- YET -- DIVERSIFI -- THEY -- REPRES -- SENS -- MILITARI -- ESPECI -- FOREIGN -- AFFAIR -- HELLO -- UDAYIN -- YE -- BOY -- I -- COOL -- MACHAIVELLI\n"
    }
   ],
   "source": [
    "BRM.DistinctTerms = Distinctterms(BRM.TotalTerms)\n",
    "print (\"\\n--- Distinct Terms in  docs---\\n\", *BRM.DistinctTerms ,sep=\" -- \")"
   ]
  },
  {
   "cell_type": "code",
   "execution_count": 9,
   "metadata": {
    "tags": []
   },
   "outputs": [
    {
     "output_type": "stream",
     "name": "stdout",
     "text": "\n--- Each Document terms Collection ---\n\n\nd5.txt  :  ['ANALYSI', 'LATENT', 'STRUCTUR']\nd1.txt  :  ['ENGLISH', 'TUTORI', 'FAST', 'TRACK']\nd2.txt  :  ['BOOK', 'SEMANT', 'ANALYSI']\nd4.txt  :  ['ADVANC', 'STRUCTUR', 'SEMANT', 'INDEX']\ndoc1.txt  :  ['WHAT', 'MANNER', 'MAN', 'MACHIAVELLI', 'HOME', 'IT', 'HARD', 'SAY']\nd3.txt  :  ['LEARN', 'LATENT', 'SEMANT', 'INDEX']\ndoc2.txt  :  ['MESSI', 'HOME', 'MINISTRI']\ndoc3.txt  :  ['MACHIAVELLI', 'BORN', '3RD', 'MAY', '1469', 'THE', 'MESSI', 'PERIOD', 'LIFE', 'ALMOST', 'EXACTLI', 'COINCID', 'CARDIN', 'WOLSEY', 'FUNCTION', 'COUNCIL', 'EXTREM', 'VARI', 'HAND', 'SECRETARI', 'BECAM', 'YET', 'DIVERSIFI', 'THEY', 'REPRES', 'SENS', 'MINISTRI', 'HOME', 'MILITARI', 'ESPECI', 'FOREIGN', 'AFFAIR', 'HELLO', 'UDAYIN', 'MAN', 'YE', 'BOY', 'HARD', 'I', 'COOL', 'MACHAIVELLI']\n\n\n"
    }
   ],
   "source": [
    "BRM.EachDocumentTerms= DocumentColection(BRM.Data)\n",
    "print (\"\\n--- Each Document terms Collection ---\" )\n",
    "displayDict(BRM.EachDocumentTerms)"
   ]
  },
  {
   "cell_type": "code",
   "execution_count": 10,
   "metadata": {},
   "outputs": [],
   "source": [
    "#Update Atribute in BRM class\n",
    "BRM.TermDocMatrix=TermDocumentIncidenceMatrix(BRM.EachDocumentTerms,BRM.DistinctTerms)"
   ]
  },
  {
   "cell_type": "code",
   "execution_count": 11,
   "metadata": {
    "tags": []
   },
   "outputs": [
    {
     "output_type": "stream",
     "name": "stdout",
     "text": "\n\nANALYSI  :  [1, 0, 1, 0, 0, 0, 0, 0]\nLATENT  :  [1, 0, 0, 0, 0, 1, 0, 0]\nSTRUCTUR  :  [1, 0, 0, 1, 0, 0, 0, 0]\nENGLISH  :  [0, 1, 0, 0, 0, 0, 0, 0]\nTUTORI  :  [0, 1, 0, 0, 0, 0, 0, 0]\nFAST  :  [0, 1, 0, 0, 0, 0, 0, 0]\nTRACK  :  [0, 1, 0, 0, 0, 0, 0, 0]\nBOOK  :  [0, 0, 1, 0, 0, 0, 0, 0]\nSEMANT  :  [0, 0, 1, 1, 0, 1, 0, 0]\nADVANC  :  [0, 0, 0, 1, 0, 0, 0, 0]\nINDEX  :  [0, 0, 0, 1, 0, 1, 0, 0]\nWHAT  :  [0, 0, 0, 0, 1, 0, 0, 0]\nMANNER  :  [0, 0, 0, 0, 1, 0, 0, 0]\nMAN  :  [0, 0, 0, 0, 1, 0, 0, 1]\nMACHIAVELLI  :  [0, 0, 0, 0, 1, 0, 0, 1]\nHOME  :  [0, 0, 0, 0, 1, 0, 1, 1]\nIT  :  [0, 0, 0, 0, 1, 0, 0, 0]\nHARD  :  [0, 0, 0, 0, 1, 0, 0, 1]\nSAY  :  [0, 0, 0, 0, 1, 0, 0, 0]\nLEARN  :  [0, 0, 0, 0, 0, 1, 0, 0]\nMESSI  :  [0, 0, 0, 0, 0, 0, 1, 1]\nMINISTRI  :  [0, 0, 0, 0, 0, 0, 1, 1]\nBORN  :  [0, 0, 0, 0, 0, 0, 0, 1]\n3RD  :  [0, 0, 0, 0, 0, 0, 0, 1]\nMAY  :  [0, 0, 0, 0, 0, 0, 0, 1]\n1469  :  [0, 0, 0, 0, 0, 0, 0, 1]\nTHE  :  [0, 0, 0, 0, 0, 0, 0, 1]\nPERIOD  :  [0, 0, 0, 0, 0, 0, 0, 1]\nLIFE  :  [0, 0, 0, 0, 0, 0, 0, 1]\nALMOST  :  [0, 0, 0, 0, 0, 0, 0, 1]\nEXACTLI  :  [0, 0, 0, 0, 0, 0, 0, 1]\nCOINCID  :  [0, 0, 0, 0, 0, 0, 0, 1]\nCARDIN  :  [0, 0, 0, 0, 0, 0, 0, 1]\nWOLSEY  :  [0, 0, 0, 0, 0, 0, 0, 1]\nFUNCTION  :  [0, 0, 0, 0, 0, 0, 0, 1]\nCOUNCIL  :  [0, 0, 0, 0, 0, 0, 0, 1]\nEXTREM  :  [0, 0, 0, 0, 0, 0, 0, 1]\nVARI  :  [0, 0, 0, 0, 0, 0, 0, 1]\nHAND  :  [0, 0, 0, 0, 0, 0, 0, 1]\nSECRETARI  :  [0, 0, 0, 0, 0, 0, 0, 1]\nBECAM  :  [0, 0, 0, 0, 0, 0, 0, 1]\nYET  :  [0, 0, 0, 0, 0, 0, 0, 1]\nDIVERSIFI  :  [0, 0, 0, 0, 0, 0, 0, 1]\nTHEY  :  [0, 0, 0, 0, 0, 0, 0, 1]\nREPRES  :  [0, 0, 0, 0, 0, 0, 0, 1]\nSENS  :  [0, 0, 0, 0, 0, 0, 0, 1]\nMILITARI  :  [0, 0, 0, 0, 0, 0, 0, 1]\nESPECI  :  [0, 0, 0, 0, 0, 0, 0, 1]\nFOREIGN  :  [0, 0, 0, 0, 0, 0, 0, 1]\nAFFAIR  :  [0, 0, 0, 0, 0, 0, 0, 1]\nHELLO  :  [0, 0, 0, 0, 0, 0, 0, 1]\nUDAYIN  :  [0, 0, 0, 0, 0, 0, 0, 1]\nYE  :  [0, 0, 0, 0, 0, 0, 0, 1]\nBOY  :  [0, 0, 0, 0, 0, 0, 0, 1]\nI  :  [0, 0, 0, 0, 0, 0, 0, 1]\nCOOL  :  [0, 0, 0, 0, 0, 0, 0, 1]\nMACHAIVELLI  :  [0, 0, 0, 0, 0, 0, 0, 1]\n\n\n"
    }
   ],
   "source": [
    "#print term document incidence matrix\n",
    "displayDict(BRM.TermDocMatrix)"
   ]
  },
  {
   "cell_type": "code",
   "execution_count": 12,
   "metadata": {},
   "outputs": [],
   "source": [
    "#for query preprocessing\n",
    "def Queryfiltration(Query):\n",
    "    Qterms=[]\n",
    "    j=[]\n",
    "    Q=Query.upper().split()\n",
    "    for term in Q:\n",
    "        j.append(ps.stem(term).upper())\n",
    "    \n",
    "    for Qterm in j:\n",
    "        if Qterm in BRM.DistinctTerms or Qterm in BRM.BooleanOperator :\n",
    "            Qterms.append(Qterm)\n",
    "    return Qterms\n",
    "\n",
    "\n",
    "#For Boolean Operations\n",
    "def BooleanOperatorProcessing(BoolOperator,PrevV,NextV):\n",
    "    result=[]\n",
    "    if BoolOperator == \"AND\":\n",
    "        for a , b in zip(NextV,PrevV) :\n",
    "            if a==1 and b==1 :\n",
    "                result.append(1)\n",
    "            else :\n",
    "                result.append(0)\n",
    "    elif BoolOperator==\"OR\" :\n",
    "        for a,b in zip(NextV,PrevV) :\n",
    "            if a==0 and b==0 :\n",
    "                result.append(0)\n",
    "            else :\n",
    "                result.append(1)\n",
    "    elif BoolOperator == \"NOT\":\n",
    "        for b in PrevV :\n",
    "            if b == 1 :\n",
    "                result.append(0)\n",
    "            else :\n",
    "                result.append(1)\n",
    "    return result\n",
    "\n",
    "\n",
    "# query processing \n",
    "def QueryProcessing(Query):\n",
    "    Bitwiseop=\"\"\n",
    "    Qyterms=Queryfiltration(Query)\n",
    "    result=[]\n",
    "    resultSet={}\n",
    "    hasPreviousterm=False\n",
    "    hasntOperation=False\n",
    "    IncVicPreBool=[]\n",
    "    IncVicNexBool=[]\n",
    "    for term in Qyterms :\n",
    "        print(term)\n",
    "        print()\n",
    "        if term not in BRM.BooleanOperator:\n",
    "            if hasntOperation:\n",
    "                if hasPreviousterm:\n",
    "                    IncVicNexBool=BooleanOperatorProcessing(\"NOT\",TermIncidenceVector(term),IncVicNexBool)\n",
    "                \n",
    "                else :\n",
    "                    IncVicPreBool=BooleanOperatorProcessing(\"NOT\",TermIncidenceVector(term),IncVicNexBool)\n",
    "                    result=IncVicPreBool\n",
    "                    hasPreviousterm = True\n",
    "\n",
    "                    \n",
    "                hasntOperation=False\n",
    "                    \n",
    "            elif  hasPreviousterm :\n",
    "                    \n",
    "                IncVicNexBool=TermIncidenceVector(term)\n",
    "            else :\n",
    "                    \n",
    "                IncVicPreBool=TermIncidenceVector(term)\n",
    "                result=IncVicPreBool\n",
    "                hasPreviousterm=True   \n",
    "                \n",
    "            \n",
    "        elif term ==\"NOT\":\n",
    "            hasntOperation=True\n",
    "            \n",
    "        else :\n",
    "            Bitwiseop=term\n",
    "                \n",
    "        if  len(IncVicNexBool)!= 0  :\n",
    "            result = BooleanOperatorProcessing(Bitwiseop,IncVicPreBool,IncVicNexBool)\n",
    "            IncVicPreBool=result\n",
    "            hasPreviousterm=True\n",
    "            IncVicNexBool= []\n",
    "   \n",
    "    \n",
    "    for i,doc in zip(result,BRM.Data):\n",
    "        print(i,BRM.Data[doc])\n",
    "        resultSet[doc]=i\n",
    "    return resultSet"
   ]
  },
  {
   "cell_type": "code",
   "execution_count": 13,
   "metadata": {
    "tags": []
   },
   "outputs": [
    {
     "output_type": "stream",
     "name": "stdout",
     "text": "STRUCTUR\n\nAND\n\nSEMANT\n\n0 analysi latent structur \n\n0 english tutori fast track \n\n0 book semant analysi \n\n1 advanc structur semant index \n\n0 what manner man machiavelli home It hard say \n\n0 learn latent semant index \n\n0 messi home ministri \nmessi \n\n0 machiavelli born 3rd may 1469 the messi period life almost exactli coincid cardin wolsey \nthe function council extrem vari hand secretari becam yet diversifi they repres sens ministri home militari especi foreign affair \nhello \nudayin man machiavelli \nye boy hard I cool militari \nmachaivelli \n\nQuery1 processing result  {'d5.txt': 0, 'd1.txt': 0, 'd2.txt': 0, 'd4.txt': 1, 'doc1.txt': 0, 'd3.txt': 0, 'doc2.txt': 0, 'doc3.txt': 0}\n"
    }
   ],
   "source": [
    "Q1=\"structure and semantic\"\n",
    "print(\"Query1 processing result \",QueryProcessing(Q1))"
   ]
  },
  {
   "cell_type": "code",
   "execution_count": 14,
   "metadata": {
    "tags": []
   },
   "outputs": [
    {
     "output_type": "stream",
     "name": "stdout",
     "text": "NOT\n\nSEMANT\n\nAND\n\nSTRUCTUR\n\n1 analysi latent structur \n\n0 english tutori fast track \n\n0 book semant analysi \n\n0 advanc structur semant index \n\n0 what manner man machiavelli home It hard say \n\n0 learn latent semant index \n\n0 messi home ministri \nmessi \n\n0 machiavelli born 3rd may 1469 the messi period life almost exactli coincid cardin wolsey \nthe function council extrem vari hand secretari becam yet diversifi they repres sens ministri home militari especi foreign affair \nhello \nudayin man machiavelli \nye boy hard I cool militari \nmachaivelli \n\nQuery2 processing result  {'d5.txt': 1, 'd1.txt': 0, 'd2.txt': 0, 'd4.txt': 0, 'doc1.txt': 0, 'd3.txt': 0, 'doc2.txt': 0, 'doc3.txt': 0}\n"
    }
   ],
   "source": [
    "Q2=\"not semantic and structure\"\n",
    "print(\"Query2 processing result \",QueryProcessing(Q2))"
   ]
  },
  {
   "cell_type": "code",
   "execution_count": 15,
   "metadata": {
    "tags": []
   },
   "outputs": [
    {
     "output_type": "stream",
     "name": "stdout",
     "text": "NOT\n\nSTRUCTUR\n\nAND\n\nSEMANT\n\n0 analysi latent structur \n\n0 english tutori fast track \n\n1 book semant analysi \n\n0 advanc structur semant index \n\n0 what manner man machiavelli home It hard say \n\n1 learn latent semant index \n\n0 messi home ministri \nmessi \n\n0 machiavelli born 3rd may 1469 the messi period life almost exactli coincid cardin wolsey \nthe function council extrem vari hand secretari becam yet diversifi they repres sens ministri home militari especi foreign affair \nhello \nudayin man machiavelli \nye boy hard I cool militari \nmachaivelli \n\nQuery3 processing result  {'d5.txt': 0, 'd1.txt': 0, 'd2.txt': 1, 'd4.txt': 0, 'doc1.txt': 0, 'd3.txt': 1, 'doc2.txt': 0, 'doc3.txt': 0}\n"
    }
   ],
   "source": [
    "Q3=\"not structure and semantic\"\n",
    "print(\"Query3 processing result \",QueryProcessing(Q3))"
   ]
  },
  {
   "cell_type": "code",
   "execution_count": 16,
   "metadata": {
    "tags": []
   },
   "outputs": [
    {
     "output_type": "stream",
     "name": "stdout",
     "text": "NOT\n\nSTRUCTUR\n\nAND\n\nNOT\n\nSEMANT\n\n0 analysi latent structur \n\n1 english tutori fast track \n\n0 book semant analysi \n\n0 advanc structur semant index \n\n1 what manner man machiavelli home It hard say \n\n0 learn latent semant index \n\n1 messi home ministri \nmessi \n\n1 machiavelli born 3rd may 1469 the messi period life almost exactli coincid cardin wolsey \nthe function council extrem vari hand secretari becam yet diversifi they repres sens ministri home militari especi foreign affair \nhello \nudayin man machiavelli \nye boy hard I cool militari \nmachaivelli \n\nQuery4 processing result  {'d5.txt': 0, 'd1.txt': 1, 'd2.txt': 0, 'd4.txt': 0, 'doc1.txt': 1, 'd3.txt': 0, 'doc2.txt': 1, 'doc3.txt': 1}\n"
    }
   ],
   "source": [
    "Q4=\"not structure and not semantic\"\n",
    "print(\"Query4 processing result \",QueryProcessing(Q4))"
   ]
  }
 ],
 "metadata": {
  "kernelspec": {
   "display_name": "Python 3.7.6 64-bit ('nav': conda)",
   "language": "python",
   "name": "python37664bitnavcondad6f8e4903ee34d359b441f70949196e9"
  },
  "language_info": {
   "codemirror_mode": {
    "name": "ipython",
    "version": 3
   },
   "file_extension": ".py",
   "mimetype": "text/x-python",
   "name": "python",
   "nbconvert_exporter": "python",
   "pygments_lexer": "ipython3",
   "version": "3.7.7-final"
  }
 },
 "nbformat": 4,
 "nbformat_minor": 4
}